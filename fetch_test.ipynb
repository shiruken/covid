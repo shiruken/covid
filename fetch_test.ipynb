{
 "cells": [
  {
   "cell_type": "markdown",
   "metadata": {},
   "source": [
    "# Notebook for testing changes to fetch script"
   ]
  },
  {
   "cell_type": "code",
   "execution_count": null,
   "metadata": {},
   "outputs": [],
   "source": [
    "import requests\n",
    "from io import StringIO\n",
    "import pandas as pd\n",
    "import numpy as np"
   ]
  },
  {
   "cell_type": "markdown",
   "metadata": {},
   "source": [
    "### Load case, death, and population data from USAFacts and merge together"
   ]
  },
  {
   "cell_type": "code",
   "execution_count": null,
   "metadata": {},
   "outputs": [],
   "source": [
    "headers = {\"User-Agent\": \"Mozilla/5.0 (Macintosh; Intel Mac OS X 10.14; rv:66.0) Gecko/20100101 Firefox/66.0\"}"
   ]
  },
  {
   "cell_type": "code",
   "execution_count": null,
   "metadata": {},
   "outputs": [],
   "source": [
    "url = \"https://static.usafacts.org/public/data/covid-19/covid_confirmed_usafacts.csv\"\n",
    "r = requests.get(url, headers=headers)\n",
    "df_cases = pd.read_csv(StringIO(r.text))\n",
    "df_cases['cases'] = df_cases.iloc[:,-1]\n",
    "df_cases['new_cases_last_week'] = df_cases.iloc[:,-1] - df_cases.iloc[:,-9]\n",
    "df_cases['new_cases_2_week_ago'] = df_cases.iloc[:,-16] - df_cases.iloc[:,-24]"
   ]
  },
  {
   "cell_type": "code",
   "execution_count": null,
   "metadata": {},
   "outputs": [],
   "source": [
    "url = \"https://static.usafacts.org/public/data/covid-19/covid_deaths_usafacts.csv\"\n",
    "r = requests.get(url, headers=headers)\n",
    "df_deaths = pd.read_csv(StringIO(r.text))\n",
    "df_deaths['deaths'] = df_deaths.iloc[:,-1]"
   ]
  },
  {
   "cell_type": "code",
   "execution_count": null,
   "metadata": {},
   "outputs": [],
   "source": [
    "url = \"https://static.usafacts.org/public/data/covid-19/covid_county_population_usafacts.csv\"\n",
    "r = requests.get(url, headers=headers)\n",
    "df_population = pd.read_csv((StringIO(r.text)))"
   ]
  },
  {
   "cell_type": "markdown",
   "metadata": {},
   "source": [
    "Merge everything together"
   ]
  },
  {
   "cell_type": "code",
   "execution_count": null,
   "metadata": {},
   "outputs": [],
   "source": [
    "df = pd.merge(df_cases, df_deaths, how='left', on=['countyFIPS', 'StateFIPS', 'State'])\n",
    "df = pd.merge(df, df_population, how='left', on=['countyFIPS', 'State'])"
   ]
  },
  {
   "cell_type": "markdown",
   "metadata": {},
   "source": [
    "### Aggregate county data to calculate state totals"
   ]
  },
  {
   "cell_type": "code",
   "execution_count": null,
   "metadata": {},
   "outputs": [],
   "source": [
    "df_state = df.groupby('StateFIPS')[['cases', 'new_cases_last_week', 'new_cases_2_week_ago', 'deaths', 'population']].sum()\n",
    "df_state['countyFIPS'] = 0\n",
    "df = pd.merge(df, df_state, how='left', on=['countyFIPS', 'StateFIPS'], suffixes=[None, '_agg'])"
   ]
  },
  {
   "cell_type": "code",
   "execution_count": null,
   "metadata": {},
   "outputs": [],
   "source": [
    "idx_state = df['countyFIPS'] == 0\n",
    "df.loc[idx_state, 'cases'] = df['cases_agg']\n",
    "df.loc[idx_state, 'new_cases_last_week'] = df['new_cases_last_week_agg']\n",
    "df.loc[idx_state, 'new_cases_2_week_ago'] = df['new_cases_2_week_ago_agg']\n",
    "df.loc[idx_state, 'deaths'] = df['deaths_agg']\n",
    "df.loc[idx_state, 'population'] = df['population_agg']"
   ]
  },
  {
   "cell_type": "markdown",
   "metadata": {},
   "source": [
    "### Format for export with unified FIPS"
   ]
  },
  {
   "cell_type": "code",
   "execution_count": null,
   "metadata": {},
   "outputs": [],
   "source": [
    "df.rename(columns={'countyFIPS': 'FIPS'}, inplace=True)\n",
    "df['FIPS'] = df.apply(lambda x: x['FIPS'] if x['FIPS'] else x['StateFIPS'], axis=1)\n",
    "df = df[['FIPS', 'population', 'cases', 'new_cases_last_week', 'new_cases_2_week_ago', 'deaths']]\n",
    "df = df.astype(int)"
   ]
  },
  {
   "cell_type": "markdown",
   "metadata": {},
   "source": [
    "Drop all rows where no cases or deaths have been reported"
   ]
  },
  {
   "cell_type": "code",
   "execution_count": null,
   "metadata": {},
   "outputs": [],
   "source": [
    "df = df[~((df['cases'] == 0) & (df['deaths'] == 0))]"
   ]
  },
  {
   "cell_type": "markdown",
   "metadata": {},
   "source": [
    "Sort the rows and save"
   ]
  },
  {
   "cell_type": "code",
   "execution_count": null,
   "metadata": {},
   "outputs": [],
   "source": [
    "df.sort_values(by=['FIPS'], inplace=True)\n",
    "df.to_csv('docs/data.csv', index=False)"
   ]
  },
  {
   "cell_type": "code",
   "execution_count": null,
   "metadata": {},
   "outputs": [],
   "source": []
  }
 ],
 "metadata": {
  "kernelspec": {
   "display_name": "covid",
   "language": "python",
   "name": "covid"
  },
  "language_info": {
   "codemirror_mode": {
    "name": "ipython",
    "version": 3
   },
   "file_extension": ".py",
   "mimetype": "text/x-python",
   "name": "python",
   "nbconvert_exporter": "python",
   "pygments_lexer": "ipython3",
   "version": "3.9.6"
  }
 },
 "nbformat": 4,
 "nbformat_minor": 4
}
